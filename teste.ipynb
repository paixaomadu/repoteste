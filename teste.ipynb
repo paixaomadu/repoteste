{
 "cells": [
  {
   "cell_type": "code",
   "execution_count": 2,
   "metadata": {},
   "outputs": [],
   "source": [
    "\n",
    "import numpy as np"
   ]
  },
  {
   "cell_type": "code",
   "execution_count": 3,
   "metadata": {},
   "outputs": [],
   "source": [
    "lista= [12,15,17,20,30,25,28,22,40,35]"
   ]
  },
  {
   "cell_type": "code",
   "execution_count": 4,
   "metadata": {},
   "outputs": [
    {
     "data": {
      "text/plain": [
       "array([12, 15, 17, 20, 22, 25, 28, 30, 35, 40])"
      ]
     },
     "execution_count": 4,
     "metadata": {},
     "output_type": "execute_result"
    }
   ],
   "source": [
    "dados= np.array(lista) \n",
    "dados.sort() #sort serve para ordenar do menor para o maior\n",
    "dados"
   ]
  },
  {
   "cell_type": "code",
   "execution_count": 5,
   "metadata": {},
   "outputs": [],
   "source": [
    "q1= np.percentile(dados, 25) #percentile serve para delimitar a distribuição de dados por porcentagem, ele já organiza em ordem crescente\n",
    "q2= np.percentile(dados, 50)\n",
    "q3= np.percentile(dados, 75)"
   ]
  },
  {
   "cell_type": "code",
   "execution_count": 6,
   "metadata": {},
   "outputs": [
    {
     "name": "stdout",
     "output_type": "stream",
     "text": [
      "Primeiro quartil (Q1): 17.75\n",
      "Segundo quartil (Q2): 23.5\n",
      "Terceiro quartil (Q3): 29.5\n"
     ]
    }
   ],
   "source": [
    "print(f'Primeiro quartil (Q1): {q1}')\n",
    "print(f'Segundo quartil (Q2): {q2}')\n",
    "print(f'Terceiro quartil (Q3): {q3}')"
   ]
  },
  {
   "cell_type": "code",
   "execution_count": null,
   "metadata": {},
   "outputs": [],
   "source": []
  }
 ],
 "metadata": {
  "kernelspec": {
   "display_name": "Python 3",
   "language": "python",
   "name": "python3"
  },
  "language_info": {
   "codemirror_mode": {
    "name": "ipython",
    "version": 3
   },
   "file_extension": ".py",
   "mimetype": "text/x-python",
   "name": "python",
   "nbconvert_exporter": "python",
   "pygments_lexer": "ipython3",
   "version": "3.11.4"
  },
  "orig_nbformat": 4
 },
 "nbformat": 4,
 "nbformat_minor": 2
}
